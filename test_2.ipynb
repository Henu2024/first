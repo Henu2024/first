{
 "cells": [
  {
   "cell_type": "code",
   "execution_count": 3,
   "metadata": {},
   "outputs": [
    {
     "ename": "ValueError",
     "evalue": "shapes (6,3) and (13,) not aligned: 3 (dim 1) != 13 (dim 0)",
     "output_type": "error",
     "traceback": [
      "\u001b[0;31m---------------------------------------------------------------------------\u001b[0m",
      "\u001b[0;31mValueError\u001b[0m                                Traceback (most recent call last)",
      "\u001b[1;32m/workspaces/first/test_2.ipynb Cell 1\u001b[0m line \u001b[0;36m5\n\u001b[1;32m     <a href='vscode-notebook-cell://codespaces%2Bopulent-space-fishstick-5gqwv9jjrgr4cv55j/workspaces/first/test_2.ipynb#W0sdnNjb2RlLXJlbW90ZQ%3D%3D?line=49'>50</a>\u001b[0m \u001b[39m# 复杂测试用例\u001b[39;00m\n\u001b[1;32m     <a href='vscode-notebook-cell://codespaces%2Bopulent-space-fishstick-5gqwv9jjrgr4cv55j/workspaces/first/test_2.ipynb#W0sdnNjb2RlLXJlbW90ZQ%3D%3D?line=50'>51</a>\u001b[0m points \u001b[39m=\u001b[39m np\u001b[39m.\u001b[39marray([(\u001b[39m0\u001b[39m, \u001b[39m0\u001b[39m), (\u001b[39m1\u001b[39m, \u001b[39m1\u001b[39m), (\u001b[39m3\u001b[39m, \u001b[39m0\u001b[39m), (\u001b[39m4\u001b[39m, \u001b[39m2\u001b[39m), (\u001b[39m6\u001b[39m, \u001b[39m1\u001b[39m), (\u001b[39m7\u001b[39m, \u001b[39m3\u001b[39m), (\u001b[39m8\u001b[39m, \u001b[39m2\u001b[39m), (\u001b[39m9\u001b[39m, \u001b[39m0\u001b[39m), (\u001b[39m10\u001b[39m, \u001b[39m2\u001b[39m), (\u001b[39m11\u001b[39m, \u001b[39m1\u001b[39m), (\u001b[39m12\u001b[39m, \u001b[39m3\u001b[39m), (\u001b[39m13\u001b[39m, \u001b[39m2\u001b[39m), (\u001b[39m14\u001b[39m, \u001b[39m0\u001b[39m)])\n\u001b[0;32m---> <a href='vscode-notebook-cell://codespaces%2Bopulent-space-fishstick-5gqwv9jjrgr4cv55j/workspaces/first/test_2.ipynb#W0sdnNjb2RlLXJlbW90ZQ%3D%3D?line=51'>52</a>\u001b[0m optimized_points \u001b[39m=\u001b[39m regularize_polygon(points)\n\u001b[1;32m     <a href='vscode-notebook-cell://codespaces%2Bopulent-space-fishstick-5gqwv9jjrgr4cv55j/workspaces/first/test_2.ipynb#W0sdnNjb2RlLXJlbW90ZQ%3D%3D?line=52'>53</a>\u001b[0m \u001b[39mprint\u001b[39m(\u001b[39m\"\u001b[39m\u001b[39m原始多边形顶点：\u001b[39m\u001b[39m\"\u001b[39m, points)\n\u001b[1;32m     <a href='vscode-notebook-cell://codespaces%2Bopulent-space-fishstick-5gqwv9jjrgr4cv55j/workspaces/first/test_2.ipynb#W0sdnNjb2RlLXJlbW90ZQ%3D%3D?line=53'>54</a>\u001b[0m \u001b[39mprint\u001b[39m(\u001b[39m\"\u001b[39m\u001b[39m规则化后的多边形顶点：\u001b[39m\u001b[39m\"\u001b[39m, optimized_points)\n",
      "\u001b[1;32m/workspaces/first/test_2.ipynb Cell 1\u001b[0m line \u001b[0;36m4\n\u001b[1;32m     <a href='vscode-notebook-cell://codespaces%2Bopulent-space-fishstick-5gqwv9jjrgr4cv55j/workspaces/first/test_2.ipynb#W0sdnNjb2RlLXJlbW90ZQ%3D%3D?line=38'>39</a>\u001b[0m constraints \u001b[39m=\u001b[39m {\u001b[39m'\u001b[39m\u001b[39mtype\u001b[39m\u001b[39m'\u001b[39m: \u001b[39m'\u001b[39m\u001b[39mineq\u001b[39m\u001b[39m'\u001b[39m, \u001b[39m'\u001b[39m\u001b[39mfun\u001b[39m\u001b[39m'\u001b[39m: constraint}\n\u001b[1;32m     <a href='vscode-notebook-cell://codespaces%2Bopulent-space-fishstick-5gqwv9jjrgr4cv55j/workspaces/first/test_2.ipynb#W0sdnNjb2RlLXJlbW90ZQ%3D%3D?line=40'>41</a>\u001b[0m \u001b[39m# 调用优化方法，迭代调整顶点位置\u001b[39;00m\n\u001b[0;32m---> <a href='vscode-notebook-cell://codespaces%2Bopulent-space-fishstick-5gqwv9jjrgr4cv55j/workspaces/first/test_2.ipynb#W0sdnNjb2RlLXJlbW90ZQ%3D%3D?line=41'>42</a>\u001b[0m result \u001b[39m=\u001b[39m minimize(objective, x0, bounds\u001b[39m=\u001b[39;49mbounds, constraints\u001b[39m=\u001b[39;49mconstraints)\n\u001b[1;32m     <a href='vscode-notebook-cell://codespaces%2Bopulent-space-fishstick-5gqwv9jjrgr4cv55j/workspaces/first/test_2.ipynb#W0sdnNjb2RlLXJlbW90ZQ%3D%3D?line=42'>43</a>\u001b[0m optimized_points \u001b[39m=\u001b[39m result\u001b[39m.\u001b[39mx\u001b[39m.\u001b[39mreshape((\u001b[39m-\u001b[39m\u001b[39m1\u001b[39m, \u001b[39m2\u001b[39m))\n\u001b[1;32m     <a href='vscode-notebook-cell://codespaces%2Bopulent-space-fishstick-5gqwv9jjrgr4cv55j/workspaces/first/test_2.ipynb#W0sdnNjb2RlLXJlbW90ZQ%3D%3D?line=44'>45</a>\u001b[0m \u001b[39m# 减少顶点数量\u001b[39;00m\n",
      "File \u001b[0;32m~/.local/lib/python3.10/site-packages/scipy/optimize/_minimize.py:719\u001b[0m, in \u001b[0;36mminimize\u001b[0;34m(fun, x0, args, method, jac, hess, hessp, bounds, constraints, tol, callback, options)\u001b[0m\n\u001b[1;32m    716\u001b[0m     res \u001b[39m=\u001b[39m _minimize_cobyla(fun, x0, args, constraints, callback\u001b[39m=\u001b[39mcallback,\n\u001b[1;32m    717\u001b[0m                            bounds\u001b[39m=\u001b[39mbounds, \u001b[39m*\u001b[39m\u001b[39m*\u001b[39moptions)\n\u001b[1;32m    718\u001b[0m \u001b[39melif\u001b[39;00m meth \u001b[39m==\u001b[39m \u001b[39m'\u001b[39m\u001b[39mslsqp\u001b[39m\u001b[39m'\u001b[39m:\n\u001b[0;32m--> 719\u001b[0m     res \u001b[39m=\u001b[39m _minimize_slsqp(fun, x0, args, jac, bounds,\n\u001b[1;32m    720\u001b[0m                           constraints, callback\u001b[39m=\u001b[39;49mcallback, \u001b[39m*\u001b[39;49m\u001b[39m*\u001b[39;49moptions)\n\u001b[1;32m    721\u001b[0m \u001b[39melif\u001b[39;00m meth \u001b[39m==\u001b[39m \u001b[39m'\u001b[39m\u001b[39mtrust-constr\u001b[39m\u001b[39m'\u001b[39m:\n\u001b[1;32m    722\u001b[0m     res \u001b[39m=\u001b[39m _minimize_trustregion_constr(fun, x0, args, jac, hess, hessp,\n\u001b[1;32m    723\u001b[0m                                        bounds, constraints,\n\u001b[1;32m    724\u001b[0m                                        callback\u001b[39m=\u001b[39mcallback, \u001b[39m*\u001b[39m\u001b[39m*\u001b[39moptions)\n",
      "File \u001b[0;32m~/.local/lib/python3.10/site-packages/scipy/optimize/_slsqp_py.py:329\u001b[0m, in \u001b[0;36m_minimize_slsqp\u001b[0;34m(func, x0, args, jac, bounds, constraints, maxiter, ftol, iprint, disp, eps, callback, finite_diff_rel_step, **unknown_options)\u001b[0m\n\u001b[1;32m    325\u001b[0m \u001b[39m# Set the parameters that SLSQP will need\u001b[39;00m\n\u001b[1;32m    326\u001b[0m \u001b[39m# meq, mieq: number of equality and inequality constraints\u001b[39;00m\n\u001b[1;32m    327\u001b[0m meq \u001b[39m=\u001b[39m \u001b[39msum\u001b[39m(\u001b[39mmap\u001b[39m(\u001b[39mlen\u001b[39m, [atleast_1d(c[\u001b[39m'\u001b[39m\u001b[39mfun\u001b[39m\u001b[39m'\u001b[39m](x, \u001b[39m*\u001b[39mc[\u001b[39m'\u001b[39m\u001b[39margs\u001b[39m\u001b[39m'\u001b[39m]))\n\u001b[1;32m    328\u001b[0m           \u001b[39mfor\u001b[39;00m c \u001b[39min\u001b[39;00m cons[\u001b[39m'\u001b[39m\u001b[39meq\u001b[39m\u001b[39m'\u001b[39m]]))\n\u001b[0;32m--> 329\u001b[0m mieq \u001b[39m=\u001b[39m \u001b[39msum\u001b[39m(\u001b[39mmap\u001b[39m(\u001b[39mlen\u001b[39m, [atleast_1d(c[\u001b[39m'\u001b[39m\u001b[39mfun\u001b[39m\u001b[39m'\u001b[39m](x, \u001b[39m*\u001b[39mc[\u001b[39m'\u001b[39m\u001b[39margs\u001b[39m\u001b[39m'\u001b[39m]))\n\u001b[1;32m    330\u001b[0m            \u001b[39mfor\u001b[39;00m c \u001b[39min\u001b[39;00m cons[\u001b[39m'\u001b[39m\u001b[39mineq\u001b[39m\u001b[39m'\u001b[39m]]))\n\u001b[1;32m    331\u001b[0m \u001b[39m# m = The total number of constraints\u001b[39;00m\n\u001b[1;32m    332\u001b[0m m \u001b[39m=\u001b[39m meq \u001b[39m+\u001b[39m mieq\n",
      "File \u001b[0;32m~/.local/lib/python3.10/site-packages/scipy/optimize/_slsqp_py.py:329\u001b[0m, in \u001b[0;36m<listcomp>\u001b[0;34m(.0)\u001b[0m\n\u001b[1;32m    325\u001b[0m \u001b[39m# Set the parameters that SLSQP will need\u001b[39;00m\n\u001b[1;32m    326\u001b[0m \u001b[39m# meq, mieq: number of equality and inequality constraints\u001b[39;00m\n\u001b[1;32m    327\u001b[0m meq \u001b[39m=\u001b[39m \u001b[39msum\u001b[39m(\u001b[39mmap\u001b[39m(\u001b[39mlen\u001b[39m, [atleast_1d(c[\u001b[39m'\u001b[39m\u001b[39mfun\u001b[39m\u001b[39m'\u001b[39m](x, \u001b[39m*\u001b[39mc[\u001b[39m'\u001b[39m\u001b[39margs\u001b[39m\u001b[39m'\u001b[39m]))\n\u001b[1;32m    328\u001b[0m           \u001b[39mfor\u001b[39;00m c \u001b[39min\u001b[39;00m cons[\u001b[39m'\u001b[39m\u001b[39meq\u001b[39m\u001b[39m'\u001b[39m]]))\n\u001b[0;32m--> 329\u001b[0m mieq \u001b[39m=\u001b[39m \u001b[39msum\u001b[39m(\u001b[39mmap\u001b[39m(\u001b[39mlen\u001b[39m, [atleast_1d(c[\u001b[39m'\u001b[39;49m\u001b[39mfun\u001b[39;49m\u001b[39m'\u001b[39;49m](x, \u001b[39m*\u001b[39;49mc[\u001b[39m'\u001b[39;49m\u001b[39margs\u001b[39;49m\u001b[39m'\u001b[39;49m]))\n\u001b[1;32m    330\u001b[0m            \u001b[39mfor\u001b[39;00m c \u001b[39min\u001b[39;00m cons[\u001b[39m'\u001b[39m\u001b[39mineq\u001b[39m\u001b[39m'\u001b[39m]]))\n\u001b[1;32m    331\u001b[0m \u001b[39m# m = The total number of constraints\u001b[39;00m\n\u001b[1;32m    332\u001b[0m m \u001b[39m=\u001b[39m meq \u001b[39m+\u001b[39m mieq\n",
      "\u001b[1;32m/workspaces/first/test_2.ipynb Cell 1\u001b[0m line \u001b[0;36m3\n\u001b[1;32m     <a href='vscode-notebook-cell://codespaces%2Bopulent-space-fishstick-5gqwv9jjrgr4cv55j/workspaces/first/test_2.ipynb#W0sdnNjb2RlLXJlbW90ZQ%3D%3D?line=32'>33</a>\u001b[0m \u001b[39mdef\u001b[39;00m \u001b[39mconstraint\u001b[39m(x):\n\u001b[0;32m---> <a href='vscode-notebook-cell://codespaces%2Bopulent-space-fishstick-5gqwv9jjrgr4cv55j/workspaces/first/test_2.ipynb#W0sdnNjb2RlLXJlbW90ZQ%3D%3D?line=33'>34</a>\u001b[0m     \u001b[39mreturn\u001b[39;00m hull\u001b[39m.\u001b[39;49mequations\u001b[39m.\u001b[39;49mdot(np\u001b[39m.\u001b[39;49mhstack([x[\u001b[39m0\u001b[39;49m::\u001b[39m2\u001b[39;49m], x[\u001b[39m1\u001b[39;49m::\u001b[39m2\u001b[39;49m], \u001b[39m1\u001b[39;49m])) \u001b[39m-\u001b[39m \u001b[39m1e-6\u001b[39m\n",
      "\u001b[0;31mValueError\u001b[0m: shapes (6,3) and (13,) not aligned: 3 (dim 1) != 13 (dim 0)"
     ]
    }
   ],
   "source": [
    "import numpy as np\n",
    "from scipy.spatial import ConvexHull\n",
    "from scipy.optimize import minimize\n",
    "\n",
    "def detect_main_direction(points):\n",
    "    # 计算多边形的主要轴\n",
    "    centroid = np.mean(points, axis=0)\n",
    "    _, eigen_vectors = np.linalg.eig(np.cov(points.T))\n",
    "    main_direction = eigen_vectors[:, np.argmax(np.abs(eigen_vectors.sum(axis=0)))]\n",
    "    return main_direction\n",
    "\n",
    "def simplify_polygon(points, tolerance):\n",
    "    # 使用道格拉斯-普克算法减少顶点数量\n",
    "    d = np.abs(np.dot(points - points[0], np.roll(np.array([1, -1]), -1)))\n",
    "    mask = np.concatenate([[True], d > tolerance])\n",
    "    simplified_points = points[mask]\n",
    "    return simplified_points\n",
    "\n",
    "def regularize_polygon(points, tolerance=0.1):\n",
    "    # 计算凸包\n",
    "    hull = ConvexHull(points)\n",
    "    hull_points = points[hull.vertices]\n",
    "\n",
    "    # 检测主要方向\n",
    "    main_direction = detect_main_direction(hull_points)\n",
    "\n",
    "    # 定义目标函数，计算顶点之间的夹角与直角之间的差异\n",
    "    def objective(x):\n",
    "        angles = np.arctan2(x[1::2] - x[:-1:2], np.roll(x[1::2] - x[:-1:2], -1))\n",
    "        return np.sum(np.abs(np.pi/2 - angles))\n",
    "\n",
    "    # 定义约束条件，确保顶点位置在凸包边界内\n",
    "    def constraint(x):\n",
    "        return hull.equations.dot(np.hstack([x[0::2], x[1::2], 1])) - 1e-6\n",
    "\n",
    "    # 初始化优化问题\n",
    "    x0 = hull_points.flatten()\n",
    "    bounds = [(min(hull_points[:, 0]), max(hull_points[:, 0]))] * len(hull_points) + [(min(hull_points[:, 1]), max(hull_points[:, 1]))] * len(hull_points)\n",
    "    constraints = {'type': 'ineq', 'fun': constraint}\n",
    "\n",
    "    # 调用优化方法，迭代调整顶点位置\n",
    "    result = minimize(objective, x0, bounds=bounds, constraints=constraints)\n",
    "    optimized_points = result.x.reshape((-1, 2))\n",
    "\n",
    "    # 减少顶点数量\n",
    "    simplified_points = simplify_polygon(optimized_points, tolerance)\n",
    "\n",
    "    return simplified_points\n",
    "\n",
    "# 复杂测试用例\n",
    "points = np.array([(0, 0), (1, 1), (3, 0), (4, 2), (6, 1), (7, 3), (8, 2), (9, 0), (10, 2), (11, 1), (12, 3), (13, 2), (14, 0)])\n",
    "optimized_points = regularize_polygon(points)\n",
    "print(\"原始多边形顶点：\", points)\n",
    "print(\"规则化后的多边形顶点：\", optimized_points)"
   ]
  },
  {
   "cell_type": "code",
   "execution_count": null,
   "metadata": {},
   "outputs": [],
   "source": []
  }
 ],
 "metadata": {
  "kernelspec": {
   "display_name": "Python 3",
   "language": "python",
   "name": "python3"
  },
  "language_info": {
   "codemirror_mode": {
    "name": "ipython",
    "version": 3
   },
   "file_extension": ".py",
   "mimetype": "text/x-python",
   "name": "python",
   "nbconvert_exporter": "python",
   "pygments_lexer": "ipython3",
   "version": "3.10.8"
  }
 },
 "nbformat": 4,
 "nbformat_minor": 2
}
