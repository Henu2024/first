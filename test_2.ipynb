{
 "cells": [
  {
   "cell_type": "code",
   "execution_count": null,
   "metadata": {},
   "outputs": [],
   "source": [
    "import numpy as np\n",
    "from scipy.spatial import ConvexHull\n",
    "from scipy.optimize import minimize\n",
    "\n",
    "def detect_main_direction(points):\n",
    "    # 计算多边形的主要轴\n",
    "    centroid = np.mean(points, axis=0)\n",
    "    _, eigen_vectors = np.linalg.eig(np.cov(points.T))\n",
    "    main_direction = eigen_vectors[:, np.argmax(np.abs(eigen_vectors.sum(axis=0)))]\n",
    "    return main_direction\n",
    "\n",
    "def simplify_polygon(points, tolerance):\n",
    "    # 使用道格拉斯-普克算法减少顶点数量\n",
    "    d = np.abs(np.dot(points - points[0], np.roll(np.array([1, -1]), -1)))\n",
    "    mask = np.concatenate([[True], d > tolerance])\n",
    "    simplified_points = points[mask]\n",
    "    return simplified_points\n",
    "\n",
    "def regularize_polygon(points, tolerance=0.1):\n",
    "    # 计算凸包\n",
    "    hull = ConvexHull(points)\n",
    "    hull_points = points[hull.vertices]\n",
    "\n",
    "    # 检测主要方向\n",
    "    main_direction = detect_main_direction(hull_points)\n",
    "\n",
    "    # 定义目标函数，计算顶点之间的夹角与直角之间的差异\n",
    "    def objective(x):\n",
    "        angles = np.arctan2(x[1::2] - x[:-1:2], np.roll(x[1::2] - x[:-1:2], -1))\n",
    "        return np.sum(np.abs(np.pi/2 - angles))\n",
    "\n",
    "    # 定义约束条件，确保顶点位置在凸包边界内\n",
    "    def constraint(x):\n",
    "        return hull.equations.dot(np.hstack([x[0::2], x[1::2], 1])) - 1e-6\n",
    "\n",
    "    # 初始化优化问题\n",
    "    x0 = hull_points.flatten()\n",
    "    bounds = [(min(hull_points[:, 0]), max(hull_points[:, 0]))] * len(hull_points) + [(min(hull_points[:, 1]), max(hull_points[:, 1]))] * len(hull_points)\n",
    "    constraints = {'type': 'ineq', 'fun': constraint}\n",
    "\n",
    "    # 调用优化方法，迭代调整顶点位置\n",
    "    result = minimize(objective, x0, bounds=bounds, constraints=constraints)\n",
    "    optimized_points = result.x.reshape((-1, 2))\n",
    "\n",
    "    # 减少顶点数量\n",
    "    simplified_points = simplify_polygon(optimized_points, tolerance)\n",
    "\n",
    "    return simplified_points\n",
    "\n",
    "# 复杂测试用例\n",
    "points = np.array([(0, 0), (1, 1), (3, 0), (4, 2), (6, 1), (7, 3), (8, 2), (9, 0), (10, 2), (11, 1), (12, 3), (13, 2), (14, 0)])\n",
    "optimized_points = regularize_polygon(points)\n",
    "print(\"原始多边形顶点：\", points)\n",
    "print(\"规则化后的多边形顶点：\", optimized_points)"
   ]
  },
  {
   "cell_type": "code",
   "execution_count": null,
   "metadata": {},
   "outputs": [],
   "source": []
  }
 ],
 "metadata": {
  "kernelspec": {
   "display_name": "Python 3",
   "language": "python",
   "name": "python3"
  },
  "language_info": {
   "codemirror_mode": {
    "name": "ipython",
    "version": 3
   },
   "file_extension": ".py",
   "mimetype": "text/x-python",
   "name": "python",
   "nbconvert_exporter": "python",
   "pygments_lexer": "ipython3",
   "version": "3.10.8"
  }
 },
 "nbformat": 4,
 "nbformat_minor": 2
}
